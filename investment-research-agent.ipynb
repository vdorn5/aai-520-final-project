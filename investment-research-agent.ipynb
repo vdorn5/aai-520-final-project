{
 "cells": [
  {
   "cell_type": "code",
   "execution_count": 2,
   "id": "6e0e669c",
   "metadata": {},
   "outputs": [],
   "source": [
    "from src.agents.orchestrator_agent import OrchestratorAgent\n"
   ]
  },
  {
   "cell_type": "code",
   "execution_count": 3,
   "id": "6f08e87d",
   "metadata": {},
   "outputs": [],
   "source": [
    "orchestrator = OrchestratorAgent()"
   ]
  },
  {
   "cell_type": "code",
   "execution_count": 5,
   "id": "3376adbf",
   "metadata": {},
   "outputs": [
    {
     "name": "stdout",
     "output_type": "stream",
     "text": [
      "gpt-3.5-turbo\n",
      "sora-2-pro\n",
      "gpt-5-pro\n",
      "gpt-audio-mini\n",
      "gpt-audio-mini-2025-10-06\n",
      "sora-2\n",
      "davinci-002\n",
      "babbage-002\n",
      "gpt-3.5-turbo-instruct\n",
      "gpt-3.5-turbo-instruct-0914\n",
      "dall-e-3\n",
      "dall-e-2\n",
      "gpt-3.5-turbo-1106\n",
      "tts-1-hd\n",
      "tts-1-1106\n",
      "tts-1-hd-1106\n",
      "text-embedding-3-small\n",
      "text-embedding-3-large\n",
      "gpt-3.5-turbo-0125\n",
      "gpt-4o\n",
      "gpt-4o-2024-05-13\n",
      "gpt-4o-mini-2024-07-18\n",
      "gpt-4o-mini\n",
      "gpt-4o-2024-08-06\n",
      "o1-mini-2024-09-12\n",
      "o1-mini\n",
      "gpt-4o-audio-preview-2024-10-01\n",
      "gpt-4o-audio-preview\n",
      "omni-moderation-latest\n",
      "omni-moderation-2024-09-26\n",
      "gpt-4o-audio-preview-2024-12-17\n",
      "gpt-4o-mini-audio-preview-2024-12-17\n",
      "o1-2024-12-17\n",
      "o1\n",
      "gpt-4o-mini-audio-preview\n",
      "o3-mini\n",
      "o3-mini-2025-01-31\n",
      "gpt-4o-2024-11-20\n",
      "gpt-4o-search-preview-2025-03-11\n",
      "gpt-4o-search-preview\n",
      "gpt-4o-mini-search-preview-2025-03-11\n",
      "gpt-4o-mini-search-preview\n",
      "gpt-4o-transcribe\n",
      "gpt-4o-mini-transcribe\n",
      "gpt-4o-mini-tts\n",
      "o3-2025-04-16\n",
      "o4-mini-2025-04-16\n",
      "o3\n",
      "o4-mini\n",
      "gpt-4.1-2025-04-14\n",
      "gpt-4.1\n",
      "gpt-4.1-mini-2025-04-14\n",
      "gpt-4.1-mini\n",
      "gpt-4.1-nano-2025-04-14\n",
      "gpt-4.1-nano\n",
      "gpt-image-1\n",
      "gpt-4o-audio-preview-2025-06-03\n",
      "gpt-5-chat-latest\n",
      "gpt-5-2025-08-07\n",
      "gpt-5\n",
      "gpt-5-mini-2025-08-07\n",
      "gpt-5-mini\n",
      "gpt-5-nano-2025-08-07\n",
      "gpt-5-nano\n",
      "gpt-audio-2025-08-28\n",
      "gpt-audio\n",
      "gpt-5-codex\n",
      "gpt-image-1-mini\n",
      "gpt-5-pro-2025-10-06\n",
      "whisper-1\n",
      "tts-1\n",
      "gpt-3.5-turbo-16k\n",
      "text-embedding-ada-002\n"
     ]
    }
   ],
   "source": [
    "from openai import OpenAI\n",
    "import os\n",
    "from dotenv import load_dotenv\n",
    "\n",
    "load_dotenv()\n",
    "\n",
    "client = OpenAI(api_key=os.getenv(\"OPENAI_API_KEY\"))\n",
    "\n",
    "models = client.models.list()\n",
    "\n",
    "for model in models.data:\n",
    "    print(model.id)"
   ]
  },
  {
   "cell_type": "code",
   "execution_count": 9,
   "id": "1224da41",
   "metadata": {},
   "outputs": [
    {
     "name": "stdout",
     "output_type": "stream",
     "text": [
      "\n",
      "Starting Investment Research for: TSLA\n",
      "\n",
      "News Summary:\n",
      "I don’t see the news text yet. Please paste the article or share the link you want summarized.\n",
      "\n",
      "If you’d like, I can tailor the summary to your needs. For example:\n",
      "- One-sentence summary\n",
      "- 5–6 bullet points covering key takeaways (who, what, when, where, why, numbers)\n",
      "- Brief analysis of potential impact on TSLA stock and the broader market\n",
      "\n",
      "If you share the text, I’ll generate a concise, clear summary focused on TSLA.\n",
      "\n",
      "Earnings Summary:\n",
      "\n",
      "[+] Running Earnings Analysis for TSLA...\n",
      "\n",
      "Parsed financials into DataFrame with shape: (47, 1)\n",
      "{'revenue': '97.69B (+0.95% YoY)', 'net_income': '7.13B (-52.5% YoY)', 'eps': 'Diluted EPS 2.04 USD, down 52.6% YoY from 4.31 USD in 2023', 'growth_comment': 'Revenue expanded modestly to 97.69B (+0.95% YoY), while profitability deteriorated: gross profit declined from 17.66B to 17.45B and operating income fell from 8.89B to 7.76B as R&D and SG&A expenses rose. Net income dropped about 52.5% YoY, and diluted EPS fell ~52.6% to 2.04 USD from 4.31 USD. This indicates margin compression despite top-line resilience, suggesting cautious growth with profitability pressure but continued scale and cash generation.', 'analyst_sentiment': 'Analyst recommendations over the last three periods show strongBuy 15, Buy 42, Hold 53, Sell 20, StrongSell 8 (out of 138 total), indicating a neutral to mildly positive stance with a tilt toward Hold and Buy.', 'overall_sentiment': 'neutral'}\n"
     ]
    }
   ],
   "source": [
    "orchestrator.run(\"TSLA\")"
   ]
  }
 ],
 "metadata": {
  "kernelspec": {
   "display_name": "Python 3.13",
   "language": "python",
   "name": "py313"
  },
  "language_info": {
   "codemirror_mode": {
    "name": "ipython",
    "version": 3
   },
   "file_extension": ".py",
   "mimetype": "text/x-python",
   "name": "python",
   "nbconvert_exporter": "python",
   "pygments_lexer": "ipython3",
   "version": "3.13.5"
  }
 },
 "nbformat": 4,
 "nbformat_minor": 5
}
